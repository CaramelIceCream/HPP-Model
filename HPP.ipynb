{
 "cells": [
  {
   "cell_type": "code",
   "execution_count": 3,
   "id": "angry-apartment",
   "metadata": {},
   "outputs": [],
   "source": [
    "import numpy as np"
   ]
  },
  {
   "cell_type": "code",
   "execution_count": 4,
   "id": "virgin-baseline",
   "metadata": {},
   "outputs": [],
   "source": [
    "N = 5"
   ]
  },
  {
   "cell_type": "code",
   "execution_count": 50,
   "id": "balanced-worcester",
   "metadata": {},
   "outputs": [
    {
     "data": {
      "text/plain": [
       "array([[0, 1, 0, 0, 0],\n",
       "       [0, 0, 8, 0, 2],\n",
       "       [0, 0, 0, 4, 0],\n",
       "       [0, 1, 2, 0, 0],\n",
       "       [0, 0, 0, 8, 0]])"
      ]
     },
     "execution_count": 50,
     "metadata": {},
     "output_type": "execute_result"
    }
   ],
   "source": [
    "grid = np.zeros((N, N), int)\n",
    "grid[1][2] = 8\n",
    "grid[3][2] = 2\n",
    "grid[0][1] = 1\n",
    "grid[2][3] = 4\n",
    "grid[1][4] = 2\n",
    "grid[4][3] = 8\n",
    "grid[3][1] = 1\n",
    "grid"
   ]
  },
  {
   "cell_type": "code",
   "execution_count": 36,
   "id": "together-cooper",
   "metadata": {},
   "outputs": [],
   "source": [
    "def right(i, j, grid):\n",
    "    if(j==N-1):\n",
    "        grid[i][0] |= 1\n",
    "    else:\n",
    "        grid[i][j+1] |= 1"
   ]
  },
  {
   "cell_type": "code",
   "execution_count": 37,
   "id": "italian-recall",
   "metadata": {},
   "outputs": [],
   "source": [
    "def up(i, j, grid):\n",
    "    if(i==0):\n",
    "        grid[N-1][j] |= 2\n",
    "    else:\n",
    "        grid[i-1][j] |= 2 "
   ]
  },
  {
   "cell_type": "code",
   "execution_count": 38,
   "id": "right-reporter",
   "metadata": {},
   "outputs": [],
   "source": [
    "def left(i, j, grid):\n",
    "    if(j==0):\n",
    "        grid[i][N-1] |= 4\n",
    "    else:\n",
    "        grid[i][j-1] |= 4"
   ]
  },
  {
   "cell_type": "code",
   "execution_count": 39,
   "id": "daily-cambridge",
   "metadata": {},
   "outputs": [],
   "source": [
    "def down(i, j, grid):\n",
    "    if(i==N-1):\n",
    "        grid[0][j] |= 8\n",
    "    else:\n",
    "        grid[i+1][j] |= 8"
   ]
  },
  {
   "cell_type": "code",
   "execution_count": 40,
   "id": "magnetic-median",
   "metadata": {},
   "outputs": [],
   "source": [
    "def move(grid):\n",
    "    newgrid = np.zeros((N, N), int)\n",
    "    for i, row in enumerate(grid):\n",
    "        for j, val in enumerate(row):\n",
    "            if(val==1):\n",
    "                right(i, j, newgrid)\n",
    "            elif(val==2):\n",
    "                up(i, j, newgrid)\n",
    "            elif(val==4):\n",
    "                left(i, j, newgrid)\n",
    "            elif(val==8):\n",
    "                down(i, j, newgrid)\n",
    "            elif(val==3):\n",
    "                up(i, j, newgrid)\n",
    "                right(i, j, newgrid)\n",
    "            elif(val==9):\n",
    "                right(i, j, newgrid)\n",
    "                down(i, j, newgrid)\n",
    "            elif(val==6):\n",
    "                left(i, j, newgrid)\n",
    "                up(i, j, newgrid)\n",
    "            elif(val==12):\n",
    "                left(i, j, newgrid)\n",
    "                down(i, j, newgrid)\n",
    "            elif(val==5):\n",
    "                up(i, j, newgrid)\n",
    "                down(i, j, newgrid)\n",
    "            elif(val==10):\n",
    "                left(i, j, newgrid)\n",
    "                right(i, j, newgrid)\n",
    "            elif(val==7):\n",
    "                left(i, j, newgrid)\n",
    "                up(i, j, newgrid)\n",
    "                right(i, j, newgrid)\n",
    "            elif(val==11):\n",
    "                up(i, j, newgrid)\n",
    "                down(i, j, newgrid)\n",
    "                right(i, j, newgrid)\n",
    "            elif(val==13):\n",
    "                down(i, j, newgrid)\n",
    "                left(i, j, newgrid)\n",
    "                right(i, j, newgrid)\n",
    "            elif(val==14):\n",
    "                left(i, j, newgrid)\n",
    "                up(i, j, newgrid)\n",
    "                down(i, j, newgrid)\n",
    "            elif(val==15):\n",
    "                right(i, j, newgrid)\n",
    "                up(i, j, newgrid)\n",
    "                left(i, j, newgrid)\n",
    "                down(i, j, newgrid)\n",
    "    return newgrid"
   ]
  },
  {
   "cell_type": "code",
   "execution_count": 51,
   "id": "secure-jackson",
   "metadata": {},
   "outputs": [
    {
     "data": {
      "text/plain": [
       "array([[0, 1, 0, 0, 0],\n",
       "       [0, 0, 8, 0, 2],\n",
       "       [0, 0, 0, 4, 0],\n",
       "       [0, 1, 2, 0, 0],\n",
       "       [0, 0, 0, 8, 0]])"
      ]
     },
     "execution_count": 51,
     "metadata": {},
     "output_type": "execute_result"
    }
   ],
   "source": [
    "grid"
   ]
  },
  {
   "cell_type": "code",
   "execution_count": 52,
   "id": "sitting-experiment",
   "metadata": {},
   "outputs": [
    {
     "data": {
      "text/plain": [
       "array([[ 0,  0,  1,  8,  2],\n",
       "       [ 0,  0,  0,  0,  0],\n",
       "       [ 0,  0, 14,  0,  0],\n",
       "       [ 0,  0,  1,  0,  0],\n",
       "       [ 0,  0,  0,  0,  0]])"
      ]
     },
     "execution_count": 52,
     "metadata": {},
     "output_type": "execute_result"
    }
   ],
   "source": [
    "grid = move(grid)\n",
    "grid"
   ]
  },
  {
   "cell_type": "code",
   "execution_count": 53,
   "id": "excellent-newfoundland",
   "metadata": {},
   "outputs": [
    {
     "data": {
      "text/plain": [
       "array([[0, 0, 0, 1, 0],\n",
       "       [0, 0, 2, 8, 0],\n",
       "       [0, 4, 0, 0, 0],\n",
       "       [0, 0, 8, 1, 0],\n",
       "       [0, 0, 0, 0, 2]])"
      ]
     },
     "execution_count": 53,
     "metadata": {},
     "output_type": "execute_result"
    }
   ],
   "source": [
    "grid = move(grid)\n",
    "grid"
   ]
  },
  {
   "cell_type": "code",
   "execution_count": 44,
   "id": "judicial-fisher",
   "metadata": {},
   "outputs": [
    {
     "data": {
      "text/plain": [
       "array([[0, 0, 2, 0, 1],\n",
       "       [0, 0, 0, 0, 0],\n",
       "       [4, 0, 0, 8, 0],\n",
       "       [0, 0, 0, 0, 3],\n",
       "       [0, 0, 8, 0, 0]])"
      ]
     },
     "execution_count": 44,
     "metadata": {},
     "output_type": "execute_result"
    }
   ],
   "source": [
    "grid = move(grid)\n",
    "grid"
   ]
  },
  {
   "cell_type": "code",
   "execution_count": 45,
   "id": "auburn-eight",
   "metadata": {},
   "outputs": [
    {
     "data": {
      "text/plain": [
       "array([[1, 0, 8, 0, 0],\n",
       "       [0, 0, 0, 0, 0],\n",
       "       [0, 0, 0, 0, 6],\n",
       "       [1, 0, 0, 8, 0],\n",
       "       [0, 0, 2, 0, 0]])"
      ]
     },
     "execution_count": 45,
     "metadata": {},
     "output_type": "execute_result"
    }
   ],
   "source": [
    "grid = move(grid)\n",
    "grid"
   ]
  },
  {
   "cell_type": "code",
   "execution_count": 46,
   "id": "fresh-central",
   "metadata": {},
   "outputs": [
    {
     "data": {
      "text/plain": [
       "array([[0, 1, 0, 0, 0],\n",
       "       [0, 0, 8, 0, 2],\n",
       "       [0, 0, 0, 4, 0],\n",
       "       [0, 1, 2, 0, 0],\n",
       "       [0, 0, 0, 8, 0]])"
      ]
     },
     "execution_count": 46,
     "metadata": {},
     "output_type": "execute_result"
    }
   ],
   "source": [
    "grid = move(grid)\n",
    "grid"
   ]
  },
  {
   "cell_type": "code",
   "execution_count": 47,
   "id": "ready-trinity",
   "metadata": {},
   "outputs": [
    {
     "data": {
      "text/plain": [
       "array([[ 0,  0,  1,  8,  2],\n",
       "       [ 0,  0,  0,  0,  0],\n",
       "       [ 0,  0, 14,  0,  0],\n",
       "       [ 0,  0,  1,  0,  0],\n",
       "       [ 0,  0,  0,  0,  0]])"
      ]
     },
     "execution_count": 47,
     "metadata": {},
     "output_type": "execute_result"
    }
   ],
   "source": [
    "grid = move(grid)\n",
    "grid"
   ]
  },
  {
   "cell_type": "code",
   "execution_count": 48,
   "id": "sporting-filling",
   "metadata": {},
   "outputs": [
    {
     "data": {
      "text/plain": [
       "array([[0, 0, 0, 1, 0],\n",
       "       [0, 0, 2, 8, 0],\n",
       "       [0, 4, 0, 0, 0],\n",
       "       [0, 0, 8, 1, 0],\n",
       "       [0, 0, 0, 0, 2]])"
      ]
     },
     "execution_count": 48,
     "metadata": {},
     "output_type": "execute_result"
    }
   ],
   "source": [
    "grid = move(grid)\n",
    "grid"
   ]
  },
  {
   "cell_type": "code",
   "execution_count": 36,
   "id": "possible-yellow",
   "metadata": {},
   "outputs": [
    {
     "data": {
      "text/plain": [
       "array([[ 0,  1,  1,  9,  2],\n",
       "       [ 0,  0,  0,  0,  0],\n",
       "       [ 0,  0, 14,  0,  0],\n",
       "       [ 0,  0,  0,  0,  0],\n",
       "       [ 0,  0,  0,  0,  0]])"
      ]
     },
     "execution_count": 36,
     "metadata": {},
     "output_type": "execute_result"
    }
   ],
   "source": [
    "grid = move(grid)\n",
    "grid"
   ]
  },
  {
   "cell_type": "code",
   "execution_count": 37,
   "id": "alert-suite",
   "metadata": {},
   "outputs": [
    {
     "data": {
      "text/plain": [
       "array([[0, 0, 1, 1, 1],\n",
       "       [0, 0, 2, 8, 0],\n",
       "       [0, 4, 0, 0, 0],\n",
       "       [0, 0, 8, 0, 0],\n",
       "       [0, 0, 0, 0, 2]])"
      ]
     },
     "execution_count": 37,
     "metadata": {},
     "output_type": "execute_result"
    }
   ],
   "source": [
    "grid = move(grid)\n",
    "grid"
   ]
  }
 ],
 "metadata": {
  "kernelspec": {
   "display_name": "Python 3",
   "language": "python",
   "name": "python3"
  },
  "language_info": {
   "codemirror_mode": {
    "name": "ipython",
    "version": 3
   },
   "file_extension": ".py",
   "mimetype": "text/x-python",
   "name": "python",
   "nbconvert_exporter": "python",
   "pygments_lexer": "ipython3",
   "version": "3.9.1"
  }
 },
 "nbformat": 4,
 "nbformat_minor": 5
}
